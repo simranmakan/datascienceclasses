{
 "cells": [
  {
   "cell_type": "code",
   "execution_count": 1,
   "id": "ed2b4cc9-6339-4589-a977-67bb8f2c43c9",
   "metadata": {},
   "outputs": [
    {
     "name": "stdout",
     "output_type": "stream",
     "text": [
      "hazel\n",
      "guest\n"
     ]
    }
   ],
   "source": [
    "def greet (name ='guest'):\n",
    "    print(name)\n",
    "\n",
    "greet('hazel')\n",
    "greet()\n"
   ]
  },
  {
   "cell_type": "code",
   "execution_count": 3,
   "id": "84f4865a-a47d-4d02-b253-69a74d72eda4",
   "metadata": {},
   "outputs": [
    {
     "name": "stdout",
     "output_type": "stream",
     "text": [
      "Name: Hazel, Age: 21\n"
     ]
    }
   ],
   "source": [
    "def student(name,age):\n",
    "    print(f\"Name: {name}, Age: {age}\")\n",
    "\n",
    "student(age=21, name=\"Hazel\")\n"
   ]
  },
  {
   "cell_type": "code",
   "execution_count": 4,
   "id": "d5c9c1d9-b151-4cc7-b757-fd63ee2bb526",
   "metadata": {},
   "outputs": [
    {
     "name": "stdout",
     "output_type": "stream",
     "text": [
      "raman 10\n"
     ]
    }
   ],
   "source": [
    "#concatinate string and integer\n",
    "a=10\n",
    "print (f'raman {a}')"
   ]
  },
  {
   "cell_type": "code",
   "execution_count": 6,
   "id": "24e754e5-81dc-40f2-9412-dd79f0c67394",
   "metadata": {},
   "outputs": [
    {
     "name": "stdout",
     "output_type": "stream",
     "text": [
      "marks are: (85, 90, 78, 88)\n",
      "Total: 341\n"
     ]
    }
   ],
   "source": [
    "def total_marks (*marks): #arbitary arguments: multiple values are stored in a single variable and are displayed in tuple form\n",
    "    print(\"marks are:\" ,marks)\n",
    "    print(\"Total:\",sum(marks))\n",
    "\n",
    "total_marks(85,90,78,88)"
   ]
  },
  {
   "cell_type": "code",
   "execution_count": 7,
   "id": "a289d2be-d8e1-4dd0-bde6-50bcacb4626a",
   "metadata": {},
   "outputs": [
    {
     "name": "stdout",
     "output_type": "stream",
     "text": [
      "name:hazel\n",
      "age:22\n",
      "course:b.tech\n"
     ]
    }
   ],
   "source": [
    "#diff b/w args and kwargs\n",
    "def profile(**info):\n",
    "    for key,value in info.items():\n",
    "        print(f\"{key}:{value}\")\n",
    "\n",
    "profile(name = 'hazel', age = 22 , course = \"b.tech\")"
   ]
  },
  {
   "cell_type": "code",
   "execution_count": 21,
   "id": "43e1b5e5-e0a7-48c3-b177-c9e564002e36",
   "metadata": {},
   "outputs": [],
   "source": [
    "#a = open(r'C:\\Users\\Student\\Desktop\\datascience\\iitm.text')\n",
    "#mode=D-READ\n",
    "#W-WRITE\n",
    "#A-APPEND\n",
    "#x mode : creates a file if do not exist and if file exists then throws error"
   ]
  },
  {
   "cell_type": "code",
   "execution_count": 20,
   "id": "5bcb351e-d02c-4370-85c2-82a281ca6463",
   "metadata": {},
   "outputs": [],
   "source": [
    "a = open(r'C:\\Users\\Student\\Desktop\\datascience\\niall.text', 'a')\n",
    "a.write('if the whole world was watching') #w mode over write the data\n",
    "a.write(\" I'd still dance with you.\")\n",
    "a.close()"
   ]
  },
  {
   "cell_type": "code",
   "execution_count": null,
   "id": "36ced6ea-939a-4689-afa0-11e2c0566364",
   "metadata": {},
   "outputs": [],
   "source": []
  }
 ],
 "metadata": {
  "kernelspec": {
   "display_name": "Python 3 (ipykernel)",
   "language": "python",
   "name": "python3"
  },
  "language_info": {
   "codemirror_mode": {
    "name": "ipython",
    "version": 3
   },
   "file_extension": ".py",
   "mimetype": "text/x-python",
   "name": "python",
   "nbconvert_exporter": "python",
   "pygments_lexer": "ipython3",
   "version": "3.12.4"
  }
 },
 "nbformat": 4,
 "nbformat_minor": 5
}
