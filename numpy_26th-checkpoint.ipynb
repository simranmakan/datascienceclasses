{
 "cells": [
  {
   "cell_type": "code",
   "execution_count": 4,
   "id": "1a3c3482-5596-471b-8343-5830ee1f1013",
   "metadata": {},
   "outputs": [
    {
     "name": "stdout",
     "output_type": "stream",
     "text": [
      "<class 'numpy.ndarray'>\n",
      "[1 2 3 4]\n"
     ]
    }
   ],
   "source": [
    "import numpy as np\n",
    "a = np.array([1,2,3,4])\n",
    "print(type(a))\n",
    "print(a)"
   ]
  },
  {
   "cell_type": "code",
   "execution_count": 16,
   "id": "07392846-fa99-4c1d-9c86-9c57c6c1b11e",
   "metadata": {},
   "outputs": [
    {
     "name": "stdout",
     "output_type": "stream",
     "text": [
      "[ 7  9 11 13 15]\n",
      "[-5 -5 -5 -5 -5]\n",
      "[ 6 14 24 36 50]\n",
      "[0.16666667 0.28571429 0.375      0.44444444 0.5       ]\n",
      "[1.   1.41 1.73 2.   2.24]\n",
      "[2.45 2.65 2.83 3.   3.16]\n"
     ]
    }
   ],
   "source": [
    "#basic mathematical operations\n",
    "a = np.array([1,2,3,4,5])\n",
    "b = np.array([6,7,8,9,10])\n",
    "print(a+b)\n",
    "print(a-b)\n",
    "print(a*b)\n",
    "print(a/b)\n",
    "print(np.round(np.sqrt(a),2))\n",
    "print(np.round(np.sqrt(b),2))"
   ]
  },
  {
   "cell_type": "code",
   "execution_count": 19,
   "id": "27d2ba4d-e847-4dfd-97a4-9d5940a4eb27",
   "metadata": {},
   "outputs": [
    {
     "name": "stdout",
     "output_type": "stream",
     "text": [
      "[[1 2]\n",
      " [3 4]]\n",
      "10\n",
      "2.5\n",
      "4\n",
      "[4 6]\n",
      "[3 7]\n",
      "[[1 3]\n",
      " [2 4]]\n"
     ]
    }
   ],
   "source": [
    "#aggregate functions\n",
    "arr = np.array([[1, 2], [3, 4]])\n",
    "print(arr)\n",
    "\n",
    "print(arr.sum())       # 10\n",
    "print(arr.mean())      # 2.5\n",
    "print(arr.max())       # 4\n",
    "print(arr.sum(axis=0)) # [4 6] - column-wise\n",
    "print(arr.sum(axis=1)) # [3 7] - row-wise\n",
    "\n",
    "#Transpose\n",
    "a=arr.T\n",
    "print(a)"
   ]
  },
  {
   "cell_type": "code",
   "execution_count": 20,
   "id": "32204d02-73b4-4e55-977b-030d9ba62af1",
   "metadata": {},
   "outputs": [
    {
     "name": "stdout",
     "output_type": "stream",
     "text": [
      "[[1 2 3]\n",
      " [4 5 6]]\n",
      "(2, 3)\n",
      "[[1 2]\n",
      " [3 4]\n",
      " [5 6]]\n"
     ]
    }
   ],
   "source": [
    "#shape of array\n",
    "arr = np.array([[1, 2, 3], [4, 5, 6]])\n",
    "print(arr)\n",
    "\n",
    "print(arr.shape)         # (2, 3)\n",
    "print(arr.reshape(3, 2)) # Reshape to 3x2"
   ]
  },
  {
   "cell_type": "code",
   "execution_count": 22,
   "id": "7ae69d2f-c387-471a-abb4-a65c29d4aa4e",
   "metadata": {},
   "outputs": [
    {
     "name": "stdout",
     "output_type": "stream",
     "text": [
      "2\n",
      "[2 5]\n"
     ]
    }
   ],
   "source": [
    "#slicing\n",
    "arr = np.array([[1, 2, 3], [4, 5, 6]])\n",
    "print(arr[0, 1])         # 2\n",
    "print(arr[:, 1])         # Second column\n"
   ]
  },
  {
   "cell_type": "code",
   "execution_count": 24,
   "id": "9316dd19-ef99-4fd0-b9b2-4d615beed94e",
   "metadata": {},
   "outputs": [
    {
     "name": "stdout",
     "output_type": "stream",
     "text": [
      "[30 40]\n"
     ]
    }
   ],
   "source": [
    "#Boolean Indexing & Filtering\n",
    "\n",
    "arr = np.array([10, 20, 30, 40])\n",
    "print(arr[arr > 25])  # [30 40]"
   ]
  },
  {
   "cell_type": "code",
   "execution_count": 26,
   "id": "4f495798-82cb-4fad-a077-de14198ba75e",
   "metadata": {},
   "outputs": [],
   "source": [
    "#linear algebra\n",
    "from numpy.linalg import inv, det, eig\n",
    "\n",
    "A = np.array([[1, 2], [3, 4]])\n",
    "\n",
    "inv_A = inv(A)\n",
    "det_A = det(A)\n",
    "eig_vals, eig_vecs = eig(A)\n"
   ]
  },
  {
   "cell_type": "code",
   "execution_count": 28,
   "id": "be884fc7-8303-465b-991d-703b61622a90",
   "metadata": {},
   "outputs": [
    {
     "name": "stdout",
     "output_type": "stream",
     "text": [
      "[[0.37454012 0.95071431 0.73199394]\n",
      " [0.59865848 0.15601864 0.15599452]]\n",
      "[[ 1.57921282  0.76743473 -0.46947439]\n",
      " [ 0.54256004 -0.46341769 -0.46572975]]\n",
      "[9 5 8 0 9]\n",
      "None\n"
     ]
    }
   ],
   "source": [
    "#random numbers\n",
    "print(np.random.rand(2, 3))        # Uniform distribution\n",
    "print(np.random.randn(2, 3))       # Normal distribution\n",
    "print(np.round(np.random.randint(0, 10, 5))) # Random ints\n",
    "print(np.random.seed(42))        # Reproducibility\n"
   ]
  },
  {
   "cell_type": "code",
   "execution_count": 18,
   "id": "7d52f886-a296-4c0d-a6ca-2e5c1d618cd5",
   "metadata": {},
   "outputs": [
    {
     "name": "stdout",
     "output_type": "stream",
     "text": [
      "[[[1 2 3]\n",
      "  [4 5 6]]\n",
      "\n",
      " [[1 2 3]\n",
      "  [4 5 6]]]\n"
     ]
    }
   ],
   "source": [
    "#3d array\n",
    "import numpy as np\n",
    "\n",
    "arr = np.array([[[1, 2, 3], [4, 5, 6]], [[1, 2, 3], [4, 5, 6]]])\n",
    "\n",
    "print(arr)"
   ]
  },
  {
   "cell_type": "code",
   "execution_count": 36,
   "id": "b06db4a3-ddb6-4216-a96c-a36e5b8cbf69",
   "metadata": {},
   "outputs": [
    {
     "name": "stdout",
     "output_type": "stream",
     "text": [
      "0\n",
      "1\n",
      "2\n",
      "3\n"
     ]
    }
   ],
   "source": [
    "#dimensions\n",
    "import numpy as np\n",
    "\n",
    "a = np.array(42)\n",
    "b = np.array([1, 2, 3, 4, 5])\n",
    "c = np.array([[1, 2, 3], [4, 5, 6]])\n",
    "d = np.array([[[1, 2, 3], [4, 5, 6]], [[1, 2, 3], [4, 5, 6]]])\n",
    "\n",
    "print(a.ndim)\n",
    "print(b.ndim)\n",
    "print(c.ndim)\n",
    "print(d.ndim)"
   ]
  },
  {
   "cell_type": "code",
   "execution_count": 39,
   "id": "4e07f031-ea7f-471d-937e-5d6bd1ce4ecb",
   "metadata": {},
   "outputs": [
    {
     "name": "stdout",
     "output_type": "stream",
     "text": [
      "2\n",
      "7\n",
      "2nd element on 1st row:  2\n",
      "5th element on 2nd row:  10\n",
      "6\n",
      "12\n"
     ]
    }
   ],
   "source": [
    "#accessing elements\n",
    "\n",
    "#1D\n",
    "import numpy as np\n",
    "\n",
    "arr = np.array([1, 2, 3, 4])\n",
    "\n",
    "print(arr[1])\n",
    "\n",
    "\n",
    "arr = np.array([1, 2, 3, 4])\n",
    "\n",
    "print(arr[2] + arr[3])\n",
    "\n",
    "\n",
    "#2D\n",
    "\n",
    "arr = np.array([[1,2,3,4,5], [6,7,8,9,10]])\n",
    "\n",
    "print('2nd element on 1st row: ', arr[0, 1])\n",
    "\n",
    "print('5th element on 2nd row: ', arr[1, 4])\n",
    "\n",
    "#3D\n",
    "\n",
    "arr = np.array([[[1, 2, 3], [4, 5, 6]], [[7, 8, 9], [10, 11, 12]]])\n",
    "\n",
    "print(arr[0, 1, 2])\n",
    "print(arr[1, 1, 2])\n"
   ]
  },
  {
   "cell_type": "code",
   "execution_count": 41,
   "id": "555978e9-4cff-4732-b90c-61434c5eb636",
   "metadata": {},
   "outputs": [
    {
     "name": "stdout",
     "output_type": "stream",
     "text": [
      "[1 2 3]\n",
      "int32\n",
      "[ True False  True]\n",
      "bool\n"
     ]
    }
   ],
   "source": [
    "#datatype conversion\n",
    "import numpy as np\n",
    "\n",
    "arr = np.array([1.1, 2.1, 3.1])\n",
    "\n",
    "newarr = arr.astype('i')\n",
    "\n",
    "print(newarr)\n",
    "print(newarr.dtype)\n",
    "\n",
    "\n",
    "arr = np.array([1, 0, 3])\n",
    "\n",
    "newarr = arr.astype(bool)\n",
    "\n",
    "print(newarr)\n",
    "print(newarr.dtype)\n"
   ]
  },
  {
   "cell_type": "code",
   "execution_count": 42,
   "id": "b4735104-9399-42cb-bdbf-06cbcfdcf892",
   "metadata": {},
   "outputs": [
    {
     "name": "stdout",
     "output_type": "stream",
     "text": [
      "[42  2  3  4  5]\n",
      "[1 2 3 4 5]\n"
     ]
    }
   ],
   "source": [
    "#copy a array to another array\n",
    "import numpy as np\n",
    "\n",
    "arr = np.array([1, 2, 3, 4, 5])\n",
    "x = arr.copy()\n",
    "arr[0] = 42\n",
    "\n",
    "print(arr)\n",
    "print(x)\n"
   ]
  },
  {
   "cell_type": "code",
   "execution_count": 1,
   "id": "215ed9fd-3299-4c54-9c58-ccbda1071743",
   "metadata": {},
   "outputs": [
    {
     "name": "stdout",
     "output_type": "stream",
     "text": [
      "[42  2  3  4  5]\n",
      "[42  2  3  4  5]\n"
     ]
    }
   ],
   "source": [
    "#view \n",
    "import numpy as np\n",
    "\n",
    "arr = np.array([1, 2, 3, 4, 5])\n",
    "x = arr.view()\n",
    "arr[0] = 42\n",
    "\n",
    "print(arr)\n",
    "print(x)"
   ]
  },
  {
   "cell_type": "code",
   "execution_count": 3,
   "id": "78e8565d-bbd3-4919-8a18-d5f6758caa4b",
   "metadata": {},
   "outputs": [
    {
     "name": "stdout",
     "output_type": "stream",
     "text": [
      "(2, 4)\n",
      "[[[[[1 2 3 4]]]]]\n",
      "shape of array : (1, 1, 1, 1, 4)\n"
     ]
    }
   ],
   "source": [
    "#shape of array\n",
    "import numpy as np\n",
    "\n",
    "arr = np.array([[1, 2, 3, 4], [5, 6, 7, 8]])#2d\n",
    "\n",
    "print(arr.shape)\n",
    "\n",
    "arr = np.array([1, 2, 3, 4], ndmin=5) #5d\n",
    "\n",
    "print(arr)\n",
    "print('shape of array :', arr.shape)\n",
    "\n"
   ]
  },
  {
   "cell_type": "code",
   "execution_count": 16,
   "id": "d491d7ce-5a8b-4da0-b7fb-a9f513a0386c",
   "metadata": {},
   "outputs": [
    {
     "name": "stdout",
     "output_type": "stream",
     "text": [
      "1\n",
      "2\n",
      "3\n",
      "[1 2 3]\n",
      "[4 5 6]\n",
      "1\n",
      "2\n",
      "3\n",
      "4\n",
      "5\n",
      "6\n",
      "[[1 2 3]\n",
      " [4 5 6]]\n",
      "[[ 7  8  9]\n",
      " [10 11 12]]\n",
      "1\n",
      "2\n",
      "3\n",
      "4\n",
      "5\n",
      "6\n",
      "7\n",
      "8\n",
      "9\n",
      "10\n",
      "11\n",
      "12\n",
      " index : 0 value : 1\n",
      " index : 1 value : 2\n",
      " index : 2 value : 3\n",
      " index : 3 value : 4\n"
     ]
    }
   ],
   "source": [
    "#array iterating\n",
    "\n",
    "arr = np.array([1, 2, 3]) #1d array \n",
    "for x in arr:\n",
    "  print(x)\n",
    "\n",
    "arr = np.array([[1, 2, 3], [4, 5, 6]]) #2d array both array prints \n",
    "for x in arr:\n",
    "  print(x)\n",
    "\n",
    "arr = np.array([[1, 2, 3], [4, 5, 6]]) #2d array each scalar element is printed\n",
    "for x in arr:\n",
    "  for y in x:\n",
    "    print(y)\n",
    "\n",
    "arr = np.array([[[1, 2, 3], [4, 5, 6]], [[7, 8, 9], [10, 11, 12]]])  #3d array prints the array\n",
    "for x in arr:\n",
    "  print(x)\n",
    "\n",
    "arr = np.array([[[1, 2, 3], [4, 5, 6]], [[7, 8, 9], [10, 11, 12]]]) #3d array each scalar element is printed\n",
    "for x in arr:\n",
    "  for y in x:\n",
    "    for z in y:\n",
    "      print(z)\n",
    "#enumerate gives value as well as index\n",
    "arr = np.array([1,2,3,4])\n",
    "for index_val , value in enumerate(arr):\n",
    "    print(f' index : {index_val} value : {value}')\n"
   ]
  },
  {
   "cell_type": "code",
   "execution_count": 6,
   "id": "a6ee688c-800d-4f67-865e-1d2f155884ef",
   "metadata": {},
   "outputs": [
    {
     "name": "stdout",
     "output_type": "stream",
     "text": [
      "[1 2 3 4 5 6]\n",
      "[[1 2 5 6]\n",
      " [3 4 7 8]]\n"
     ]
    }
   ],
   "source": [
    "#array joining\n",
    "\n",
    "import numpy as np  \n",
    "\n",
    "arr1 = np.array([1, 2, 3]) #1d array\n",
    "\n",
    "arr2 = np.array([4, 5, 6])\n",
    "\n",
    "arr = np.concatenate((arr1, arr2))\n",
    "\n",
    "print(arr)\n",
    "\n",
    "arr1 = np.array([[1, 2], [3, 4]]) #2d array\n",
    "\n",
    "arr2 = np.array([[5, 6], [7, 8]])\n",
    "\n",
    "arr = np.concatenate((arr1, arr2), axis=1)\n",
    "\n",
    "print(arr)"
   ]
  },
  {
   "cell_type": "code",
   "execution_count": 7,
   "id": "60c99c8b-4f13-4e58-b8b3-ce32ef78dff2",
   "metadata": {},
   "outputs": [
    {
     "name": "stdout",
     "output_type": "stream",
     "text": [
      "[1 2 3 4 5 6]\n",
      "[[1 2 3]\n",
      " [4 5 6]]\n"
     ]
    }
   ],
   "source": [
    "#joining array using stack\n",
    "\n",
    "#hstack (Rows)\n",
    "arr1 = np.array([1, 2, 3])\n",
    "\n",
    "arr2 = np.array([4, 5, 6])\n",
    "\n",
    "arr = np.hstack((arr1, arr2))\n",
    "\n",
    "print(arr)\n",
    "\n",
    "#vstack (Cols)\n",
    "arr1 = np.array([1, 2, 3])\n",
    "\n",
    "arr2 = np.array([4, 5, 6])\n",
    "\n",
    "arr = np.vstack((arr1, arr2))\n",
    "\n",
    "print(arr)"
   ]
  },
  {
   "cell_type": "code",
   "execution_count": 17,
   "id": "27e23272-50d1-4f5a-8813-5819360e9723",
   "metadata": {},
   "outputs": [
    {
     "name": "stdout",
     "output_type": "stream",
     "text": [
      "['apple' 'banana' 'cherry']\n"
     ]
    }
   ],
   "source": [
    "#array sorting\n",
    "\n",
    "arr = np.array(['banana', 'cherry', 'apple'])\n",
    "\n",
    "print(np.sort(arr))\n"
   ]
  },
  {
   "cell_type": "code",
   "execution_count": 3,
   "id": "409834fc-e44d-4036-9796-16dff4489566",
   "metadata": {},
   "outputs": [
    {
     "name": "stdout",
     "output_type": "stream",
     "text": [
      "[[10 20 30]\n",
      " [40 50 60]]\n",
      "60\n",
      "[10 20]\n",
      "[20 50]\n",
      "[40 50 60]\n"
     ]
    }
   ],
   "source": [
    "#slicing\n",
    "import numpy as np\n",
    "\n",
    "arr = np.array([[10,20,30] , [40,50,60]])\n",
    "print(arr)\n",
    "print(arr[1,2])\n",
    "print(arr[0, :2])\n",
    "print(arr[: ,1])\n",
    "print(arr[1 ,:])\n"
   ]
  },
  {
   "cell_type": "code",
   "execution_count": 5,
   "id": "142956a9-be10-4686-a274-cadc42316488",
   "metadata": {},
   "outputs": [
    {
     "name": "stdout",
     "output_type": "stream",
     "text": [
      "2\n",
      "(2, 3)\n",
      "int64\n",
      "8\n"
     ]
    }
   ],
   "source": [
    "#array attributes\n",
    "\n",
    "a= np.array([[1,2,3] ,[4,5,6]])\n",
    "print(a.ndim)\n",
    "print(a.shape)\n",
    "print(a.dtype)\n",
    "print(a.itemsize)\n",
    "\n",
    "#axis = 0 col\n",
    "#axis = 1 row"
   ]
  },
  {
   "cell_type": "code",
   "execution_count": 12,
   "id": "5f0678e6-9021-4499-910d-bbc19e908c86",
   "metadata": {},
   "outputs": [
    {
     "name": "stdout",
     "output_type": "stream",
     "text": [
      "[[0. 0. 0.]\n",
      " [0. 0. 0.]]\n",
      "-------------------------------------------\n",
      "[[1. 1. 1.]\n",
      " [1. 1. 1.]\n",
      " [1. 1. 1.]]\n",
      "-------------------------------------------\n",
      "[[1. 0. 0.]\n",
      " [0. 1. 0.]\n",
      " [0. 0. 1.]]\n",
      "-------------------------------------------\n",
      "[[7 7]\n",
      " [7 7]]\n",
      "-------------------------------------------\n",
      "[1 3 5 7 9]\n",
      "-------------------------------------------\n",
      "[0.   0.25 0.5  0.75 1.  ]\n",
      "-------------------------------------------\n",
      "[[0.41917106 0.76503421 0.63916636]\n",
      " [0.93736909 0.66380738 0.42922359]]\n",
      "-------------------------------------------\n",
      "[[6 8 6]\n",
      " [6 8 9]]\n"
     ]
    }
   ],
   "source": [
    "#array creation fucntions\n",
    "print(np.zeros((2,3))) #2x3 array of 0s\n",
    "print('-------------------------------------------')\n",
    "print(np.ones((3,3))) #3x3 array of 1s\n",
    "print('-------------------------------------------')\n",
    "print(np.eye(3)) #3x3 identity matrix\n",
    "print('-------------------------------------------')\n",
    "print(np.full((2,2),7)) #2x2 array filled with 7\n",
    "print('-------------------------------------------')\n",
    "print(np.arange(1,10,2)) #array([0,2,4,6,8])\n",
    "print('-------------------------------------------')\n",
    "print(np.linspace(0,1,5)) #5 values between 0 and 1\n",
    "print('-------------------------------------------')\n",
    "print(np.random.rand(2,3)) #random values in [0,1]\n",
    "print('-------------------------------------------')\n",
    "print(np.random.randint(1,10,(2,3))) #randomints\n"
   ]
  },
  {
   "cell_type": "code",
   "execution_count": null,
   "id": "d6464114-7fb9-40dd-9b00-d105d86273ef",
   "metadata": {},
   "outputs": [],
   "source": []
  }
 ],
 "metadata": {
  "kernelspec": {
   "display_name": "Python 3 (ipykernel)",
   "language": "python",
   "name": "python3"
  },
  "language_info": {
   "codemirror_mode": {
    "name": "ipython",
    "version": 3
   },
   "file_extension": ".py",
   "mimetype": "text/x-python",
   "name": "python",
   "nbconvert_exporter": "python",
   "pygments_lexer": "ipython3",
   "version": "3.13.5"
  }
 },
 "nbformat": 4,
 "nbformat_minor": 5
}
