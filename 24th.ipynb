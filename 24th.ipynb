{
 "cells": [
  {
   "cell_type": "code",
   "execution_count": 17,
   "id": "557225cc-f867-4b4a-ae51-16aa194842d1",
   "metadata": {},
   "outputs": [
    {
     "name": "stdout",
     "output_type": "stream",
     "text": [
      "(10, 20, 30)\n",
      "[10, 20, 30]\n",
      "<class 'list'>\n",
      "[10, 20, 30, 40]\n",
      "(10, 20, 30, 40)\n"
     ]
    }
   ],
   "source": [
    "#typecasting in tuple\n",
    "t=(10,20,30)\n",
    "print(t)\n",
    "y=list(t) #typecasting\n",
    "print(y)\n",
    "print(type(y))\n",
    "y.append(40)\n",
    "print(y)\n",
    "print(tuple(y))"
   ]
  },
  {
   "cell_type": "code",
   "execution_count": 17,
   "id": "a48bf16f-1402-44f2-9aa5-44643ac7dbc1",
   "metadata": {},
   "outputs": [
    {
     "name": "stdout",
     "output_type": "stream",
     "text": [
      "nan\n",
      "nan\n",
      "nan\n",
      "nan\n",
      "nan\n",
      "45\n"
     ]
    }
   ],
   "source": [
    "#set value accessing\n",
    "s2={9,4,10,45,2,3}\n",
    "for i in s2:\n",
    "    if i==45:\n",
    "        print(i)\n",
    "        break\n",
    "    else:\n",
    "        print(\"nan\")\n",
    "\n"
   ]
  },
  {
   "cell_type": "code",
   "execution_count": 29,
   "id": "9780080c-f1dd-421c-9a67-cfbf221c3002",
   "metadata": {},
   "outputs": [
    {
     "name": "stdout",
     "output_type": "stream",
     "text": [
      "hazel\n",
      "21\n",
      "30\n",
      "steven\n"
     ]
    }
   ],
   "source": [
    "d2 = {'name':'hazel' , 10:'21'}\n",
    "print(d2['name'])\n",
    "print(d2[10])\n",
    "d3 = {'name':('hazel','zade','steven') , 'age':[10,20,30]}\n",
    "print(d3['age'] [2])\n",
    "print(d3['name'][2])"
   ]
  },
  {
   "cell_type": "code",
   "execution_count": 39,
   "id": "261f308d-1fef-49f1-95c7-78bf19d93384",
   "metadata": {},
   "outputs": [
    {
     "name": "stdout",
     "output_type": "stream",
     "text": [
      "{'name': ('hazel', 'zade', 'steven'), 'age': [50, 60, 70], 'coruse': ('bca', 'mca', 'mbbs')}\n"
     ]
    }
   ],
   "source": [
    "d2 = {'name':('hazel','zade','steven') , 'age':[10,20,30]}\n",
    "d2['age']=[50,60,70] #updating\n",
    "d2['coruse']=('bca','mca','mbbs')\n",
    "print(d2)"
   ]
  },
  {
   "cell_type": "code",
   "execution_count": 49,
   "id": "0a02c3a3-f587-430a-8b8a-c1f25ba448b0",
   "metadata": {},
   "outputs": [
    {
     "name": "stdout",
     "output_type": "stream",
     "text": [
      "['name', 'age']\n"
     ]
    }
   ],
   "source": [
    "d2 = {'name':('hazel','zade','steven') , 'age':[10,20,30]}\n",
    "d=[]\n",
    "for i in d2:\n",
    "    d.append(i)\n",
    "print(d)"
   ]
  },
  {
   "cell_type": "code",
   "execution_count": 47,
   "id": "d2e3e0b9-bc0e-49e5-8e5f-ff778a2311c8",
   "metadata": {},
   "outputs": [
    {
     "name": "stdout",
     "output_type": "stream",
     "text": [
      "[('hazel', 'zade', 'steven'), [10, 20, 30]]\n"
     ]
    }
   ],
   "source": [
    "d2 = {'name':('hazel','zade','steven') , 'age':[10,20,30]}\n",
    "d=[]\n",
    "for i in d2:\n",
    "    a=d2.get(i)\n",
    "    d.append(a)\n",
    "print(d)"
   ]
  },
  {
   "cell_type": "code",
   "execution_count": null,
   "id": "0e2e08e1-7b32-400d-8489-ed8cf17ca6d6",
   "metadata": {},
   "outputs": [],
   "source": [
    "#whatsapp questions\n",
    "\n",
    "student = {'name':['hazel','zade','steven'] , 'marks':[10,20,30]}\n",
    "print(student)\n",
    "\n",
    "#adding values\n",
    "student['marks'].append(25)\n",
    "student['name'].append('alex')\n",
    "print(student)\n",
    "\n",
    "#updating values\n",
    "index=student['name'].index('zade')\n",
    "student['marks'][index]=88\n",
    "print(student)\n",
    "\n",
    "student.update()\n",
    "\n",
    "#highest,lowest and avg marks\n",
    "t_marks=[int(m) for m in student['marks']] #typecasting\n",
    "marks = student['marks']\n",
    "highest = max(t_marks)\n",
    "lowest = min(t_marks)\n",
    "average = sum(t_marks)/len(t_marks)\n",
    "\n",
    "print(highest)\n",
    "print(lowest)\n",
    "print(average)"
   ]
  },
  {
   "cell_type": "code",
   "execution_count": 97,
   "id": "8814b552-af47-4b86-b889-a1f429c1dc55",
   "metadata": {},
   "outputs": [
    {
     "name": "stdout",
     "output_type": "stream",
     "text": [
      "raman\n",
      "done\n",
      "code done\n"
     ]
    }
   ],
   "source": [
    "try:\n",
    "    print('raman') #print(raman) -> error\n",
    "except NameError:\n",
    "    print('error occurred')\n",
    "else:\n",
    "    print('done')\n",
    "finally:\n",
    "    print('code done')"
   ]
  },
  {
   "cell_type": "code",
   "execution_count": 107,
   "id": "daf424e3-f7f1-4015-9f33-a095e11a3dc6",
   "metadata": {},
   "outputs": [
    {
     "name": "stdout",
     "output_type": "stream",
     "text": [
      "hazel\n",
      "36\n",
      "hello hazel\n"
     ]
    }
   ],
   "source": [
    "#oops\n",
    "class person:\n",
    "    def __init__(self,name,age): #constructor -> calls automatically when an object is created\n",
    "        #self -> indicates objects of current class we can write anything at the place of self.\n",
    "        #1st parameter will be considered self only\n",
    "        self.name = name\n",
    "        self.age = age\n",
    "\n",
    "    def myfunc(self):\n",
    "        print(\"hello \" + self.name)\n",
    "        \n",
    "\n",
    "p1 = person(\"hazel\" ,36) #p1 is object -> storing a class in a variable\n",
    "#one class can have multiple objects\n",
    "print(p1.name)\n",
    "print(p1.age)\n",
    "p1.myfunc()\n",
    "\n",
    "#method -> inside class; first parameter should be self \n",
    "#function -> outside class; first parameter can be empty"
   ]
  },
  {
   "cell_type": "code",
   "execution_count": 151,
   "id": "babba2fd-e6bc-499d-b59a-9c3db8f25d72",
   "metadata": {},
   "outputs": [
    {
     "name": "stdout",
     "output_type": "stream",
     "text": [
      "your current balance is rs.1000\n",
      "rs.2000 deposited successfully!!\n",
      "your current balance is rs.3000\n",
      "rs.200 withdrawl successfully!!\n",
      "your current balance is rs.2800\n"
     ]
    }
   ],
   "source": [
    "#class based atm machine\n",
    "class ATM:\n",
    "    def __init__ (self, bal=0):\n",
    "        self.bal = bal\n",
    "\n",
    "    def checkbal(self):\n",
    "        print(f\"your current balance is rs.{self.bal}\")\n",
    "\n",
    "    def addmoney(self,amount):\n",
    "        if amount>0:\n",
    "            self.bal += amount\n",
    "            print(f\"rs.{amount} deposited successfully!!\")\n",
    "\n",
    "    def withdraw(self, amount):\n",
    "        if amount>0:\n",
    "            self.bal -= amount\n",
    "            print(f\"rs.{amount} withdrawl successfully!!\")\n",
    "        \n",
    "atm= ATM(1000)\n",
    "atm.checkbal() \n",
    "atm.addmoney(2000)\n",
    "atm.checkbal()\n",
    "atm.withdraw(200)\n",
    "atm.checkbal()"
   ]
  },
  {
   "cell_type": "code",
   "execution_count": 157,
   "id": "f4dc7858-a88b-4747-8d61-f9643b140e67",
   "metadata": {},
   "outputs": [
    {
     "data": {
      "text/plain": [
       "'\\nimport mysql.connector\\n\\nmydb = mysql.connector.connect(\\n  host=\"localhost\",\\n  user=\"yourusername\",\\n  password=\"yourpassword\"\\n)\\n\\nmycursor = mydb.cursor()\\n\\nmycursor.execute(\"CREATE DATABASE mydatabase\")\\n'"
      ]
     },
     "execution_count": 157,
     "metadata": {},
     "output_type": "execute_result"
    }
   ],
   "source": [
    "#install mysql workbench\n",
    "#conn = mysql.connector.connect(\n",
    "#host = \"localhost\"\n",
    "\n",
    "'''\n",
    "import mysql.connector\n",
    "\n",
    "mydb = mysql.connector.connect(\n",
    "  host=\"localhost\",\n",
    "  user=\"yourusername\",\n",
    "  password=\"yourpassword\"\n",
    ")\n",
    "\n",
    "mycursor = mydb.cursor()\n",
    "\n",
    "mycursor.execute(\"CREATE DATABASE mydatabase\")\n",
    "'''"
   ]
  },
  {
   "cell_type": "code",
   "execution_count": null,
   "id": "5fc7d1d0-212d-4fbf-b6cd-9df2d87cef1c",
   "metadata": {},
   "outputs": [],
   "source": []
  }
 ],
 "metadata": {
  "kernelspec": {
   "display_name": "Python 3 (ipykernel)",
   "language": "python",
   "name": "python3"
  },
  "language_info": {
   "codemirror_mode": {
    "name": "ipython",
    "version": 3
   },
   "file_extension": ".py",
   "mimetype": "text/x-python",
   "name": "python",
   "nbconvert_exporter": "python",
   "pygments_lexer": "ipython3",
   "version": "3.12.4"
  }
 },
 "nbformat": 4,
 "nbformat_minor": 5
}
